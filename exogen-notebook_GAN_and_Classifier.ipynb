{
 "cells": [
  {
   "cell_type": "markdown",
   "metadata": {},
   "source": [
    "# Run these cells for both GAN and Classifier"
   ]
  },
  {
   "cell_type": "code",
   "execution_count": 59,
   "metadata": {
    "_cell_guid": "b1076dfc-b9ad-4769-8c92-a6c4dae69d19",
    "_uuid": "8f2839f25d086af736a60e9eeb907d3b93b6e0e5"
   },
   "outputs": [
    {
     "name": "stdout",
     "output_type": "stream",
     "text": [
      "/kaggle/input/kepler-labelled-time-series-data/exoTest.csv\n",
      "/kaggle/input/kepler-labelled-time-series-data/exoTrain.csv\n"
     ]
    }
   ],
   "source": [
    "# This Python 3 environment comes with many helpful analytics libraries installed\n",
    "# It is defined by the kaggle/python Docker image: https://github.com/kaggle/docker-python\n",
    "# For example, here's several helpful packages to load\n",
    "\n",
    "import numpy as np # linear algebra\n",
    "import pandas as pd # data processing, CSV file I/O (e.g. pd.read_csv)\n",
    "\n",
    "# Input data files are available in the read-only \"../input/\" directory\n",
    "# For example, running this (by clicking run or pressing Shift+Enter) will list all files under the input directory\n",
    "\n",
    "import os\n",
    "for dirname, _, filenames in os.walk('/kaggle/input'):\n",
    "    for filename in filenames:\n",
    "        print(os.path.join(dirname, filename))\n",
    "\n",
    "# You can write up to 5GB to the current directory (/kaggle/working/) that gets preserved as output when you create a version using \"Save & Run All\" \n",
    "# You can also write temporary files to /kaggle/temp/, but they won't be saved outside of the current session"
   ]
  },
  {
   "cell_type": "code",
   "execution_count": 60,
   "metadata": {
    "_cell_guid": "79c7e3d0-c299-4dcb-8224-4455121ee9b0",
    "_uuid": "d629ff2d2480ee46fbb7e2d37f6b5fab8052498a"
   },
   "outputs": [
    {
     "name": "stdout",
     "output_type": "stream",
     "text": [
      "Loading train and test data...\n"
     ]
    }
   ],
   "source": [
    "import numpy as np \n",
    "import pandas as pd \n",
    "import matplotlib.pyplot as plt\n",
    "\n",
    "np.random.seed(1)\n",
    "\n",
    "print('Loading train and test data...')\n",
    "df=pd.read_csv('../input/kepler-labelled-time-series-data/exoTrain.csv')\n",
    "#print(df1)\n",
    "df2=pd.read_csv('../input/kepler-labelled-time-series-data/exoTest.csv')\n",
    "#print(df2)"
   ]
  },
  {
   "cell_type": "code",
   "execution_count": 61,
   "metadata": {},
   "outputs": [],
   "source": [
    "#print(train_data)\n",
    "test_data=np.array(df2,dtype=np.float32)\n",
    "#print(test_data)\n",
    "\n",
    "\n",
    "Y=df.loc[:,df.columns==\"LABEL\"]\n",
    "X=df.loc[:,df.columns!=\"LABEL\"]\n",
    "ytest=test_data[:,0]\n",
    "Xtest=test_data[:,1:]\n",
    "# print(ytrain,'\\n',Xtrain)\n",
    "# print(ytest,'\\n',Xtest)\n",
    "\n",
    "m=1 # A chosen exoplanet host star's index for plott\n",
    "n=100 # A chosen non-exoplanet host star's index\n",
    "\n",
    "#print('Shape of Xtrain:',np.shape(Xtrain),'\\nShape of ytrain:',np.shape(ytrain))\n",
    "\n",
    "Xtrain =X\n",
    "Y =Y.to_numpy()\n",
    "\n",
    "# plt.plot(X.iloc[m],'r')\n",
    "# plt.title('Light intensity vs time (for an exoplanet star)')\n",
    "# plt.xlabel('Time index')\n",
    "# plt.ylabel('Light intensity')\n",
    "# plt.show()"
   ]
  },
  {
   "cell_type": "code",
   "execution_count": 55,
   "metadata": {},
   "outputs": [
    {
     "name": "stdout",
     "output_type": "stream",
     "text": [
      "Applying Fourier Transform...\n"
     ]
    },
    {
     "data": {
      "image/png": "[encoded data removed]",
      "text/plain": [
       "<Figure size 432x288 with 1 Axes>"
      ]
     },
     "metadata": {
      "needs_background": "light"
     },
     "output_type": "display_data"
    }
   ],
   "source": [
    "from scipy.fftpack import fft,ifft\n",
    "\n",
    "print('Applying Fourier Transform...')\n",
    "\n",
    "Xtrain=Xtrain.to_numpy()\n",
    "plt.figure(5)\n",
    "plt.plot(Xtrain[1])\n",
    "Xtrain=Xtrain[:,:1+int((len(Xtrain[0])-1)/2)]\n",
    "\n",
    "\n",
    "\n",
    "\n"
   ]
  },
  {
   "cell_type": "markdown",
   "metadata": {},
   "source": [
    "# GAN MODEL ONLY, Run Cells below to train GAN generate transit Light Curves"
   ]
  },
  {
   "cell_type": "code",
   "execution_count": 56,
   "metadata": {},
   "outputs": [
    {
     "name": "stdout",
     "output_type": "stream",
     "text": [
      "(5087, 1599)\n",
      "(5087, 1)\n",
      "(5087, 1599, 1)\n",
      "[[2]\n",
      " [2]\n",
      " [2]\n",
      " ...\n",
      " [1]\n",
      " [1]\n",
      " [1]]\n",
      "[[1]\n",
      " [1]\n",
      " [1]\n",
      " ...\n",
      " [0]\n",
      " [0]\n",
      " [0]]\n"
     ]
    }
   ],
   "source": [
    "print(Xtrain.shape)\n",
    "print(Y.shape)\n",
    "Xtrain = np.reshape(Xtrain,(Xtrain.shape[0],1,Xtrain.shape[1]))\n",
    "print(Xtrain.shape)\n",
    "print(Y)\n",
    "\n",
    "for i in range(len(Y)):\n",
    "    if Y[i]==1:\n",
    "        Y[i]=0\n",
    "for i in range(len(Y)):\n",
    "    if Y[i]==2:\n",
    "        Y[i]=1\n",
    "print(Y)\n"
   ]
  },
  {
   "cell_type": "code",
   "execution_count": 57,
   "metadata": {},
   "outputs": [],
   "source": [
    "from keras.models import Sequential,Model\n",
    "from keras.layers import Dense\n",
    "from keras.layers import LSTM,SimpleRNN\n",
    "from keras.layers import Dropout,GRU,Flatten,Input\n",
    "from keras.layers import TimeDistributed,Reshape\n",
    "from keras.wrappers.scikit_learn import KerasClassifier\n",
    "from keras.models import Sequential, load_model\n",
    "from tqdm import tqdm\n",
    "from keras.layers.advanced_activations import LeakyReLU\n",
    "import tensorflow as tf\n",
    "from keras.optimizers import Adam,Adamax,Nadam\n",
    "adam = Adam(learning_rate = 3E-2)"
   ]
  },
  {
   "cell_type": "code",
   "execution_count": null,
   "metadata": {},
   "outputs": [],
   "source": [
    "def create_generator():\n",
    "    generator=Sequential()\n",
    "    generator.add(Dense(units=512,input_dim=100))\n",
    "    generator.add(LeakyReLU(0.2))\n",
    "    \n",
    "    generator.add(Dense(units=1024))\n",
    "    generator.add(LeakyReLU(0.2))\n",
    "    \n",
    "    generator.add(Dense(units=1024))\n",
    "    generator.add(LeakyReLU(0.2))\n",
    "    \n",
    "    generator.add(Dense(units=Xtrain.shape[2]))\n",
    "    \n",
    "    generator.add(Reshape((1,Xtrain.shape[2])))\n",
    "    \n",
    "    generator.compile(loss='binary_crossentropy', optimizer=adam)\n",
    "    return generator\n",
    "g = create_generator()\n",
    "g.summary()\n",
    "\n",
    "\n",
    "def create_discriminator():\n",
    "    model = Sequential()\n",
    "    model.add(LSTM(units =256,input_shape=(1,Xtrain.shape[2]),return_sequences = True))\n",
    "    model.add(Dropout(0.3))\n",
    "    model.add(LSTM(units =256,return_sequences = True))\n",
    "    model.add(Dropout(0.3))\n",
    "    model.add(LSTM(units =128,return_sequences = False))\n",
    "    model.add(Dropout(0.3))\n",
    "    model.add(Dense(units =1,activation = \"sigmoid\"))\n",
    "    model.compile(loss='binary_crossentropy',optimizer=\"rmsprop\",metrics = [\"accuracy\"])\n",
    "    return model\n",
    "d =create_discriminator()\n",
    "d.summary()\n",
    "\n",
    "def create_gan(discriminator, generator):\n",
    "    discriminator.trainable=False\n",
    "    gan_input = Input(shape=(100,))\n",
    "    x = generator(gan_input)\n",
    "\n",
    "    gan_output= discriminator(x)\n",
    "    gan= Model(inputs=gan_input, outputs=gan_output)\n",
    "    gan.compile(loss='binary_crossentropy', optimizer='rmsprop')\n",
    "    return gan\n",
    "\n",
    "gan = create_gan(d,g)\n",
    "gan.summary()\n",
    "\n",
    "\n",
    "\n",
    "\n",
    "def training(epochs=1, batch_size=128):\n",
    "    \n",
    "    #Loading the data\n",
    "    X_train, y_train = Xtrain,Y\n",
    "    batch_count = X_train.shape[0] / batch_size\n",
    "    X_train = np.reshape(X_train,(X_train.shape[0],X_train.shape[1],1))\n",
    "    # Creating GAN\n",
    "    generator= create_generator()\n",
    "    discriminator= create_discriminator()\n",
    "    gan = create_gan(discriminator, generator)\n",
    "    \n",
    "    for e in range(1,epochs+1 ):\n",
    "        print(\"Epoch %d\" %e)\n",
    "        for _ in tqdm(range(batch_size)):\n",
    "        #generate  random noise as an input  to  initialize the  generator\n",
    "            noise= np.random.normal(0,1, [batch_size, 100])\n",
    "            \n",
    "            # Generate fake MNIST images from noised input\n",
    "            generated_images = generator.predict(noise)\n",
    "            \n",
    "            # Get a random set of  real images\n",
    "            image_batch =X_train[np.random.randint(low=0,high=X_train.shape[0],size=batch_size)]\n",
    "            \n",
    "            #Construct different batches of  real and fake data \n",
    "            X= np.concatenate([image_batch, generated_images])\n",
    "            X = np.reshape(X,(X.shape[0],X.shape[1],1))\n",
    "            # Labels for generated and real data\n",
    "            y_dis=np.zeros(2*batch_size)\n",
    "            y_dis[:batch_size]=0.9\n",
    "            \n",
    "            #Pre train discriminator on  fake and real data  before starting the gan. \n",
    "            discriminator.trainable=True\n",
    "            discriminator.train_on_batch(X, y_dis)\n",
    "            \n",
    "            #Tricking the noised input of the Generator as real data\n",
    "            noise= np.random.normal(0,1, [batch_size, 100])\n",
    "            y_gen = np.ones(batch_size)\n",
    "            \n",
    "            # During the training of gan, \n",
    "            # the weights of discriminator should be fixed. \n",
    "            #We can enforce that by setting the trainable flag\n",
    "            discriminator.trainable=False\n",
    "            \n",
    "            #training  the GAN by alternating the training of the Discriminator \n",
    "            #and training the chained GAN model with Discriminator’s weights freezed.\n",
    "            gan.train_on_batch(noise, y_gen)\n",
    "            \n",
    "        if e == 1 or e % 25 == 0:\n",
    "            print(generated_images.shape)\n",
    "        \n",
    "            for i in range(0,batch_size):\n",
    "                plt.figure()\n",
    "                plt.plot(generated_images[i])\n",
    "            plt.show()\n",
    "        if e==epochs:\n",
    "            for i in range(0,batch_size,2):\n",
    "                plt.figure()\n",
    "                plt.plot(generated_images[i])\n",
    "            generator.save(\"generator_trial2.h5\")\n",
    "            generator.save_weights(\"generator_weights2.h5\")\n",
    "            gan.save(\"gan_trial2\")\n",
    "            discriminator.save(\"discriminator_trial2.h5\")\n",
    "training(250,10)\n",
    "    "
   ]
  },
  {
   "cell_type": "markdown",
   "metadata": {},
   "source": [
    "EXPORT THE MODEL"
   ]
  },
  {
   "cell_type": "code",
   "execution_count": null,
   "metadata": {},
   "outputs": [],
   "source": [
    "model = load_model(\"gan_trial2\")\n",
    "print(model.summary())"
   ]
  },
  {
   "cell_type": "code",
   "execution_count": null,
   "metadata": {},
   "outputs": [],
   "source": [
    "\n",
    "new_model = Model(model.get_layer(\"sequential_2\").input,model.get_layer(\"sequential_2\").output)\n",
    "new_model.load_weights(\"generator_weights2.h5\")\n",
    "\n",
    "print(new_model.summary())\n",
    "\n",
    "#model.compile(loss='binary_crossentropy', optimizer=adam)\n",
    "\n",
    "batch_size = 5\n",
    "noise = np.random.normal(0,1,[batch_size,100])\n",
    "test = new_model.predict(noise)\n",
    "def printer():\n",
    "    for i in range(0,batch_size):\n",
    "        plt.figure()\n",
    "        plt.plot(test[i])\n",
    "    plt.show()\n",
    "printer()"
   ]
  },
  {
   "cell_type": "markdown",
   "metadata": {},
   "source": [
    "# CLASSIFIER MODEL, Run cells below to train the LSTM and make predictions"
   ]
  },
  {
   "cell_type": "markdown",
   "metadata": {},
   "source": [
    "Data Preprocessing"
   ]
  },
  {
   "cell_type": "code",
   "execution_count": 62,
   "metadata": {},
   "outputs": [
    {
     "name": "stdout",
     "output_type": "stream",
     "text": [
      "Applying Fourier Transform...\n",
      "[[ 31822.48         3542.69725989  55671.61280692 ...  52952.70195631\n",
      "   55671.61280692   3542.69725989]\n",
      " [ 23747.1         18904.03483095  23034.01375377 ...  23943.70167127\n",
      "   23034.01375377  18904.03483095]\n",
      " [ 26180.51       143610.48759074  41912.29468855 ... 365999.61678651\n",
      "   41912.29468855 143610.48759074]\n",
      " ...\n",
      " [  9398.42000001   5514.03371502  18216.47890902 ...   7032.65269996\n",
      "   18216.47890902   5514.03371502]\n",
      " [  2567.54         1986.45522747   2780.97513937 ...   3810.82651497\n",
      "    2780.97513937   1986.45522747]\n",
      " [ 16608.95000001  12716.78586068  20542.92617575 ...   8212.03658663\n",
      "   20542.92617575  12716.78586068]] (5087, 3197)\n"
     ]
    },
    {
     "data": {
      "image/png": "[encoded data removed]",
      "text/plain": [
       "<Figure size 432x288 with 1 Axes>"
      ]
     },
     "metadata": {
      "needs_background": "light"
     },
     "output_type": "display_data"
    },
    {
     "data": {
      "image/png": "[encoded data removed]",
      "text/plain": [
       "<Figure size 432x288 with 1 Axes>"
      ]
     },
     "metadata": {
      "needs_background": "light"
     },
     "output_type": "display_data"
    },
    {
     "name": "stdout",
     "output_type": "stream",
     "text": [
      "Normalizing...\n"
     ]
    },
    {
     "data": {
      "image/png": "[encoded data removed]",
      "text/plain": [
       "<Figure size 432x288 with 1 Axes>"
      ]
     },
     "metadata": {
      "needs_background": "light"
     },
     "output_type": "display_data"
    },
    {
     "name": "stdout",
     "output_type": "stream",
     "text": [
      "Applying Gaussian filter...\n"
     ]
    },
    {
     "data": {
      "image/png": "[encoded data removed]",
      "text/plain": [
       "<Figure size 432x288 with 1 Axes>"
      ]
     },
     "metadata": {
      "needs_background": "light"
     },
     "output_type": "display_data"
    },
    {
     "name": "stdout",
     "output_type": "stream",
     "text": [
      "Applying MinMaxScaler...\n"
     ]
    },
    {
     "data": {
      "image/png": "[encoded data removed]",
      "text/plain": [
       "<Figure size 432x288 with 1 Axes>"
      ]
     },
     "metadata": {
      "needs_background": "light"
     },
     "output_type": "display_data"
    }
   ],
   "source": [
    "from scipy.fftpack import fft,ifft\n",
    "\n",
    "print('Applying Fourier Transform...')\n",
    "\n",
    "Xtrain=Xtrain.to_numpy()\n",
    "plt.figure(5)\n",
    "plt.plot(Xtrain[1])\n",
    "Xtrain=np.abs(fft(Xtrain,n=len(Xtrain[m]),axis=1))\n",
    "\n",
    "\n",
    "print(Xtrain,Xtrain.shape)\n",
    "\n",
    "Xtrain=Xtrain[:,:1+int((len(Xtrain[0])-1)/2)]\n",
    "\n",
    "\n",
    "\n",
    "Xtest=Xtest[:,:1+int((len(Xtest[0])-1)/2)]\n",
    "plt.figure(1)\n",
    "save_train_m = Xtrain[m]\n",
    "plt.plot(Xtrain[m],'r')\n",
    "plt.title('After FFT (for an exoplanet star)')\n",
    "plt.xlabel('Frequency')\n",
    "plt.ylabel('Feature value')\n",
    "plt.show()\n",
    "\n",
    "#### Normalizing\n",
    "\n",
    "from sklearn.preprocessing import normalize\n",
    "\n",
    "print('Normalizing...')\n",
    "Xtrain=normalize(Xtrain)\n",
    "Xtest=normalize(Xtest)\n",
    "plt.figure(2)\n",
    "plt.plot(Xtrain[m],'r')\n",
    "plt.title('After FFT,Normalization (for an exoplanet star)')\n",
    "plt.xlabel('Frequency')\n",
    "plt.ylabel('Feature value')\n",
    "plt.show()\n",
    "\n",
    "\n",
    "\n",
    "\n",
    "#### Applying Gaussian Filter\n",
    "\n",
    "from scipy import ndimage\n",
    "\n",
    "print('Applying Gaussian filter...')\n",
    "Xtrain=ndimage.filters.gaussian_filter(Xtrain,sigma=10)\n",
    "Xtest=ndimage.filters.gaussian_filter(Xtest,sigma=10)\n",
    "plt.figure(3)\n",
    "plt.plot(Xtrain[m],'r')\n",
    "plt.title('After FFT,Normalization and Gaussian filtering (for an exoplanet star)')\n",
    "plt.xlabel('Frequency')\n",
    "plt.ylabel('Feature value')\n",
    "plt.show()\n",
    "\n",
    "\n",
    "\n",
    "\n",
    "#### Scaling down the data\n",
    "\n",
    "from sklearn.preprocessing import MinMaxScaler\n",
    "\n",
    "print('Applying MinMaxScaler...')\n",
    "scaler=MinMaxScaler(feature_range=(0,1))\n",
    "Xtrain=scaler.fit_transform(Xtrain)\n",
    "Xtest=scaler.fit_transform(Xtest)\n",
    "plt.figure(4)\n",
    "plt.plot(Xtrain[m],'r')\n",
    "plt.title('After FFT,Normalization, Gaussian filtering and scaling (for an exoplanet star)')\n",
    "plt.xlabel('Frequency')\n",
    "plt.ylabel('Feature value')\n",
    "plt.show()"
   ]
  },
  {
   "cell_type": "code",
   "execution_count": 63,
   "metadata": {},
   "outputs": [
    {
     "name": "stdout",
     "output_type": "stream",
     "text": [
      "(5087, 1599)\n",
      "(5087, 1)\n",
      "(5087, 1, 1599)\n",
      "[[2]\n",
      " [2]\n",
      " [2]\n",
      " ...\n",
      " [1]\n",
      " [1]\n",
      " [1]]\n",
      "[[1]\n",
      " [1]\n",
      " [1]\n",
      " ...\n",
      " [0]\n",
      " [0]\n",
      " [0]]\n"
     ]
    }
   ],
   "source": [
    "print(Xtrain.shape)\n",
    "print(Y.shape)\n",
    "Xtrain = np.reshape(Xtrain,(Xtrain.shape[0],1,Xtrain.shape[1]))\n",
    "print(Xtrain.shape)\n",
    "print(Y)\n",
    "\n",
    "for i in range(len(Y)):\n",
    "    if Y[i]==1:\n",
    "        Y[i]=0\n",
    "for i in range(len(Y)):\n",
    "    if Y[i]==2:\n",
    "        Y[i]=1\n",
    "print(Y)"
   ]
  },
  {
   "cell_type": "code",
   "execution_count": 64,
   "metadata": {},
   "outputs": [
    {
     "name": "stdout",
     "output_type": "stream",
     "text": [
      "Epoch 1/10\n",
      "159/159 [==============================] - 2s 11ms/step - loss: 0.0434 - accuracy: 0.9915\n",
      "Epoch 2/10\n",
      "159/159 [==============================] - 2s 11ms/step - loss: 0.0112 - accuracy: 0.9980\n",
      "Epoch 3/10\n",
      "159/159 [==============================] - 2s 11ms/step - loss: 0.0102 - accuracy: 0.9982\n",
      "Epoch 4/10\n",
      "159/159 [==============================] - 2s 11ms/step - loss: 0.0072 - accuracy: 0.9984\n",
      "Epoch 5/10\n",
      "159/159 [==============================] - 2s 11ms/step - loss: 0.0074 - accuracy: 0.9988\n",
      "Epoch 6/10\n",
      "159/159 [==============================] - 2s 11ms/step - loss: 0.0052 - accuracy: 0.9990\n",
      "Epoch 7/10\n",
      "159/159 [==============================] - 2s 11ms/step - loss: 0.0086 - accuracy: 0.9986\n",
      "Epoch 8/10\n",
      "159/159 [==============================] - 2s 11ms/step - loss: 0.0054 - accuracy: 0.9986\n",
      "Epoch 9/10\n",
      "159/159 [==============================] - 2s 11ms/step - loss: 0.0018 - accuracy: 0.9994\n",
      "Epoch 10/10\n",
      "159/159 [==============================] - 2s 10ms/step - loss: 0.0053 - accuracy: 0.9988\n"
     ]
    }
   ],
   "source": [
    "# detect and init the TPU\n",
    "tpu = tf.distribute.cluster_resolver.TPUClusterResolver()\n",
    "tf.config.experimental_connect_to_cluster(tpu)\n",
    "tf.tpu.experimental.initialize_tpu_system(tpu)\n",
    "\n",
    "# instantiate a distribution strategy\n",
    "tpu_strategy = tf.distribute.experimental.TPUStrategy(tpu)\n",
    "\n",
    "# instantiating the model in the strategy scope creates the model on the TPU\n",
    "with tpu_strategy.scope():\n",
    "    Classifier = Sequential()\n",
    "    Classifier.add(LSTM(units =256,input_shape=(1,Xtrain.shape[2]),return_sequences = True))\n",
    "    Classifier.add(Dropout(0.3))\n",
    "    Classifier.add(LSTM(units =256,return_sequences = True))\n",
    "    Classifier.add(Dropout(0.3))\n",
    "    Classifier.add(LSTM(units =128,return_sequences = False))\n",
    "    Classifier.add(Dropout(0.3))\n",
    "    Classifier.add(Dense(units =1,activation = \"sigmoid\"))\n",
    "    Classifier.compile(loss='binary_crossentropy',optimizer=\"adam\",metrics = [\"accuracy\"])\n",
    "\n",
    "Classifier.fit(Xtrain,Y,epochs = 10)\n",
    "\n",
    "Classifier.save(\"classifier_trial1.h5\")"
   ]
  },
  {
   "cell_type": "code",
   "execution_count": 65,
   "metadata": {},
   "outputs": [
    {
     "name": "stdout",
     "output_type": "stream",
     "text": [
      "[[9.99290895e-01 9.99314418e-01 9.99360692e-01 ... 1.93427434e-04\n",
      "  1.89191340e-04 1.87030383e-04]]\n",
      "[1]\n"
     ]
    }
   ],
   "source": [
    "print(Xtrain[1])\n",
    "#plt.plot(Xtrain[34])\n",
    "#plt.show()\n",
    "print(Y[23])"
   ]
  },
  {
   "cell_type": "code",
   "execution_count": 66,
   "metadata": {},
   "outputs": [
    {
     "name": "stdout",
     "output_type": "stream",
     "text": [
      "(1, 1599)\n"
     ]
    }
   ],
   "source": [
    "print(Xtrain[0].shape)\n",
    "\n",
    "y = Classifier.predict(Xtrain)\n"
   ]
  },
  {
   "cell_type": "code",
   "execution_count": 67,
   "metadata": {},
   "outputs": [
    {
     "name": "stdout",
     "output_type": "stream",
     "text": [
      "[0.99394095]\n",
      "[8.0257654e-05]\n",
      "[0]\n"
     ]
    }
   ],
   "source": [
    "print(max(y))\n",
    "print(y[322])\n",
    "print(Y[322])"
   ]
  },
  {
   "cell_type": "code",
   "execution_count": null,
   "metadata": {},
   "outputs": [],
   "source": []
  }
 ],
 "metadata": {
  "kernelspec": {
   "display_name": "Python 3",
   "language": "python",
   "name": "python3"
  },
  "language_info": {
   "codemirror_mode": {
    "name": "ipython",
    "version": 3
   },
   "file_extension": ".py",
   "mimetype": "text/x-python",
   "name": "python",
   "nbconvert_exporter": "python",
   "pygments_lexer": "ipython3",
   "version": "3.7.5"
  }
 },
 "nbformat": 4,
 "nbformat_minor": 4
}
